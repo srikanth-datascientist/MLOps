{
  "nbformat": 4,
  "nbformat_minor": 0,
  "metadata": {
    "colab": {
      "name": "MLOpsBasics.ipynb",
      "provenance": [],
      "authorship_tag": "ABX9TyOy0VN+qITB1DnQDrhKWzBk",
      "include_colab_link": true
    },
    "kernelspec": {
      "name": "python3",
      "display_name": "Python 3"
    },
    "language_info": {
      "name": "python"
    }
  },
  "cells": [
    {
      "cell_type": "markdown",
      "metadata": {
        "id": "view-in-github",
        "colab_type": "text"
      },
      "source": [
        "<a href=\"https://colab.research.google.com/github/srikanth-datascientist/MLOps/blob/main/MLOpsBasics.ipynb\" target=\"_parent\"><img src=\"https://colab.research.google.com/assets/colab-badge.svg\" alt=\"Open In Colab\"/></a>"
      ]
    },
    {
      "cell_type": "markdown",
      "source": [
        "### Agenda\n",
        "* How to get the data?\n",
        "* How to process the data?\n",
        "* How to define dataloaders?\n",
        "* How to declare the model?\n",
        "* How to train the model?\n",
        "* How to do the inference?"
      ],
      "metadata": {
        "id": "2bjF1vD0zalp"
      }
    },
    {
      "cell_type": "markdown",
      "source": [
        "Get started by installing 🤗 Datasets:"
      ],
      "metadata": {
        "id": "NdIocPnsz0qq"
      }
    },
    {
      "cell_type": "code",
      "source": [
        "!pip install datasets"
      ],
      "metadata": {
        "colab": {
          "base_uri": "https://localhost:8080/"
        },
        "id": "U9dByjGdz1v3",
        "outputId": "7983606b-0617-4ca9-cb91-c14acafcadd6"
      },
      "execution_count": 2,
      "outputs": [
        {
          "output_type": "stream",
          "name": "stdout",
          "text": [
            "Collecting datasets\n",
            "  Downloading datasets-2.2.1-py3-none-any.whl (342 kB)\n",
            "\u001b[?25l\r\u001b[K     |█                               | 10 kB 19.5 MB/s eta 0:00:01\r\u001b[K     |██                              | 20 kB 23.6 MB/s eta 0:00:01\r\u001b[K     |██▉                             | 30 kB 28.8 MB/s eta 0:00:01\r\u001b[K     |███▉                            | 40 kB 32.8 MB/s eta 0:00:01\r\u001b[K     |████▉                           | 51 kB 6.3 MB/s eta 0:00:01\r\u001b[K     |█████▊                          | 61 kB 7.3 MB/s eta 0:00:01\r\u001b[K     |██████▊                         | 71 kB 8.3 MB/s eta 0:00:01\r\u001b[K     |███████▋                        | 81 kB 4.5 MB/s eta 0:00:01\r\u001b[K     |████████▋                       | 92 kB 4.9 MB/s eta 0:00:01\r\u001b[K     |█████████▋                      | 102 kB 5.4 MB/s eta 0:00:01\r\u001b[K     |██████████▌                     | 112 kB 5.4 MB/s eta 0:00:01\r\u001b[K     |███████████▌                    | 122 kB 5.4 MB/s eta 0:00:01\r\u001b[K     |████████████▌                   | 133 kB 5.4 MB/s eta 0:00:01\r\u001b[K     |█████████████▍                  | 143 kB 5.4 MB/s eta 0:00:01\r\u001b[K     |██████████████▍                 | 153 kB 5.4 MB/s eta 0:00:01\r\u001b[K     |███████████████▎                | 163 kB 5.4 MB/s eta 0:00:01\r\u001b[K     |████████████████▎               | 174 kB 5.4 MB/s eta 0:00:01\r\u001b[K     |█████████████████▎              | 184 kB 5.4 MB/s eta 0:00:01\r\u001b[K     |██████████████████▏             | 194 kB 5.4 MB/s eta 0:00:01\r\u001b[K     |███████████████████▏            | 204 kB 5.4 MB/s eta 0:00:01\r\u001b[K     |████████████████████            | 215 kB 5.4 MB/s eta 0:00:01\r\u001b[K     |█████████████████████           | 225 kB 5.4 MB/s eta 0:00:01\r\u001b[K     |██████████████████████          | 235 kB 5.4 MB/s eta 0:00:01\r\u001b[K     |███████████████████████         | 245 kB 5.4 MB/s eta 0:00:01\r\u001b[K     |████████████████████████        | 256 kB 5.4 MB/s eta 0:00:01\r\u001b[K     |█████████████████████████       | 266 kB 5.4 MB/s eta 0:00:01\r\u001b[K     |█████████████████████████▉      | 276 kB 5.4 MB/s eta 0:00:01\r\u001b[K     |██████████████████████████▉     | 286 kB 5.4 MB/s eta 0:00:01\r\u001b[K     |███████████████████████████▊    | 296 kB 5.4 MB/s eta 0:00:01\r\u001b[K     |████████████████████████████▊   | 307 kB 5.4 MB/s eta 0:00:01\r\u001b[K     |█████████████████████████████▊  | 317 kB 5.4 MB/s eta 0:00:01\r\u001b[K     |██████████████████████████████▋ | 327 kB 5.4 MB/s eta 0:00:01\r\u001b[K     |███████████████████████████████▋| 337 kB 5.4 MB/s eta 0:00:01\r\u001b[K     |████████████████████████████████| 342 kB 5.4 MB/s \n",
            "\u001b[?25hRequirement already satisfied: dill in /usr/local/lib/python3.7/dist-packages (from datasets) (0.3.4)\n",
            "Collecting aiohttp\n",
            "  Downloading aiohttp-3.8.1-cp37-cp37m-manylinux_2_5_x86_64.manylinux1_x86_64.manylinux_2_12_x86_64.manylinux2010_x86_64.whl (1.1 MB)\n",
            "\u001b[K     |████████████████████████████████| 1.1 MB 57.4 MB/s \n",
            "\u001b[?25hRequirement already satisfied: multiprocess in /usr/local/lib/python3.7/dist-packages (from datasets) (0.70.12.2)\n",
            "Requirement already satisfied: pandas in /usr/local/lib/python3.7/dist-packages (from datasets) (1.3.5)\n",
            "Requirement already satisfied: tqdm>=4.62.1 in /usr/local/lib/python3.7/dist-packages (from datasets) (4.64.0)\n",
            "Requirement already satisfied: numpy>=1.17 in /usr/local/lib/python3.7/dist-packages (from datasets) (1.21.6)\n",
            "Requirement already satisfied: requests>=2.19.0 in /usr/local/lib/python3.7/dist-packages (from datasets) (2.23.0)\n",
            "Collecting xxhash\n",
            "  Downloading xxhash-3.0.0-cp37-cp37m-manylinux_2_17_x86_64.manylinux2014_x86_64.whl (212 kB)\n",
            "\u001b[K     |████████████████████████████████| 212 kB 45.5 MB/s \n",
            "\u001b[?25hCollecting fsspec[http]>=2021.05.0\n",
            "  Downloading fsspec-2022.3.0-py3-none-any.whl (136 kB)\n",
            "\u001b[K     |████████████████████████████████| 136 kB 49.9 MB/s \n",
            "\u001b[?25hRequirement already satisfied: pyarrow>=6.0.0 in /usr/local/lib/python3.7/dist-packages (from datasets) (6.0.1)\n",
            "Collecting huggingface-hub<1.0.0,>=0.1.0\n",
            "  Downloading huggingface_hub-0.6.0-py3-none-any.whl (84 kB)\n",
            "\u001b[K     |████████████████████████████████| 84 kB 2.9 MB/s \n",
            "\u001b[?25hCollecting responses<0.19\n",
            "  Downloading responses-0.18.0-py3-none-any.whl (38 kB)\n",
            "Requirement already satisfied: importlib-metadata in /usr/local/lib/python3.7/dist-packages (from datasets) (4.11.3)\n",
            "Requirement already satisfied: packaging in /usr/local/lib/python3.7/dist-packages (from datasets) (21.3)\n",
            "Requirement already satisfied: typing-extensions>=3.7.4.3 in /usr/local/lib/python3.7/dist-packages (from huggingface-hub<1.0.0,>=0.1.0->datasets) (4.2.0)\n",
            "Requirement already satisfied: filelock in /usr/local/lib/python3.7/dist-packages (from huggingface-hub<1.0.0,>=0.1.0->datasets) (3.6.0)\n",
            "Requirement already satisfied: pyyaml in /usr/local/lib/python3.7/dist-packages (from huggingface-hub<1.0.0,>=0.1.0->datasets) (3.13)\n",
            "Requirement already satisfied: pyparsing!=3.0.5,>=2.0.2 in /usr/local/lib/python3.7/dist-packages (from packaging->datasets) (3.0.8)\n",
            "Requirement already satisfied: certifi>=2017.4.17 in /usr/local/lib/python3.7/dist-packages (from requests>=2.19.0->datasets) (2021.10.8)\n",
            "Requirement already satisfied: chardet<4,>=3.0.2 in /usr/local/lib/python3.7/dist-packages (from requests>=2.19.0->datasets) (3.0.4)\n",
            "Requirement already satisfied: urllib3!=1.25.0,!=1.25.1,<1.26,>=1.21.1 in /usr/local/lib/python3.7/dist-packages (from requests>=2.19.0->datasets) (1.24.3)\n",
            "Requirement already satisfied: idna<3,>=2.5 in /usr/local/lib/python3.7/dist-packages (from requests>=2.19.0->datasets) (2.10)\n",
            "Collecting urllib3!=1.25.0,!=1.25.1,<1.26,>=1.21.1\n",
            "  Downloading urllib3-1.25.11-py2.py3-none-any.whl (127 kB)\n",
            "\u001b[K     |████████████████████████████████| 127 kB 47.7 MB/s \n",
            "\u001b[?25hCollecting frozenlist>=1.1.1\n",
            "  Downloading frozenlist-1.3.0-cp37-cp37m-manylinux_2_5_x86_64.manylinux1_x86_64.manylinux_2_17_x86_64.manylinux2014_x86_64.whl (144 kB)\n",
            "\u001b[K     |████████████████████████████████| 144 kB 46.5 MB/s \n",
            "\u001b[?25hCollecting yarl<2.0,>=1.0\n",
            "  Downloading yarl-1.7.2-cp37-cp37m-manylinux_2_5_x86_64.manylinux1_x86_64.manylinux_2_12_x86_64.manylinux2010_x86_64.whl (271 kB)\n",
            "\u001b[K     |████████████████████████████████| 271 kB 50.3 MB/s \n",
            "\u001b[?25hRequirement already satisfied: charset-normalizer<3.0,>=2.0 in /usr/local/lib/python3.7/dist-packages (from aiohttp->datasets) (2.0.12)\n",
            "Collecting async-timeout<5.0,>=4.0.0a3\n",
            "  Downloading async_timeout-4.0.2-py3-none-any.whl (5.8 kB)\n",
            "Collecting multidict<7.0,>=4.5\n",
            "  Downloading multidict-6.0.2-cp37-cp37m-manylinux_2_17_x86_64.manylinux2014_x86_64.whl (94 kB)\n",
            "\u001b[K     |████████████████████████████████| 94 kB 3.0 MB/s \n",
            "\u001b[?25hCollecting aiosignal>=1.1.2\n",
            "  Downloading aiosignal-1.2.0-py3-none-any.whl (8.2 kB)\n",
            "Collecting asynctest==0.13.0\n",
            "  Downloading asynctest-0.13.0-py3-none-any.whl (26 kB)\n",
            "Requirement already satisfied: attrs>=17.3.0 in /usr/local/lib/python3.7/dist-packages (from aiohttp->datasets) (21.4.0)\n",
            "Requirement already satisfied: zipp>=0.5 in /usr/local/lib/python3.7/dist-packages (from importlib-metadata->datasets) (3.8.0)\n",
            "Requirement already satisfied: python-dateutil>=2.7.3 in /usr/local/lib/python3.7/dist-packages (from pandas->datasets) (2.8.2)\n",
            "Requirement already satisfied: pytz>=2017.3 in /usr/local/lib/python3.7/dist-packages (from pandas->datasets) (2022.1)\n",
            "Requirement already satisfied: six>=1.5 in /usr/local/lib/python3.7/dist-packages (from python-dateutil>=2.7.3->pandas->datasets) (1.15.0)\n",
            "Installing collected packages: multidict, frozenlist, yarl, urllib3, asynctest, async-timeout, aiosignal, fsspec, aiohttp, xxhash, responses, huggingface-hub, datasets\n",
            "  Attempting uninstall: urllib3\n",
            "    Found existing installation: urllib3 1.24.3\n",
            "    Uninstalling urllib3-1.24.3:\n",
            "      Successfully uninstalled urllib3-1.24.3\n",
            "\u001b[31mERROR: pip's dependency resolver does not currently take into account all the packages that are installed. This behaviour is the source of the following dependency conflicts.\n",
            "datascience 0.10.6 requires folium==0.2.1, but you have folium 0.8.3 which is incompatible.\u001b[0m\n",
            "Successfully installed aiohttp-3.8.1 aiosignal-1.2.0 async-timeout-4.0.2 asynctest-0.13.0 datasets-2.2.1 frozenlist-1.3.0 fsspec-2022.3.0 huggingface-hub-0.6.0 multidict-6.0.2 responses-0.18.0 urllib3-1.25.11 xxhash-3.0.0 yarl-1.7.2\n"
          ]
        }
      ]
    },
    {
      "cell_type": "code",
      "source": [
        ""
      ],
      "metadata": {
        "id": "L2-mftorz7p5"
      },
      "execution_count": null,
      "outputs": []
    }
  ]
}